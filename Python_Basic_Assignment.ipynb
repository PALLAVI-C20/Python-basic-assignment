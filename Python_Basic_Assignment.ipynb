{
  "nbformat": 4,
  "nbformat_minor": 0,
  "metadata": {
    "colab": {
      "provenance": []
    },
    "kernelspec": {
      "name": "python3",
      "display_name": "Python 3"
    },
    "language_info": {
      "name": "python"
    }
  },
  "cells": [
    {
      "cell_type": "markdown",
      "source": [
        "# **# Python Basics Questions**"
      ],
      "metadata": {
        "id": "Nqn-2vXgNNLP"
      }
    },
    {
      "cell_type": "markdown",
      "source": [
        "**1.What is Python, and why is it popular**\n",
        "\n",
        "Python is a interpreted programming language.\n",
        "It is popular because\n",
        "* Python's syntax is clean and readable, lowering the barrier to entry for new programmers.\n",
        "* Python code can run on any operating system with minimal changes\n",
        "*Companies like Google, YouTube, Netflix, Dropbox, NASA, and Facebook use Python in production"
      ],
      "metadata": {
        "id": "uxLKbo0XNNIo"
      }
    },
    {
      "cell_type": "markdown",
      "source": [
        "**2.What is an interpreter in Python**\n",
        "\n",
        "An interpreter in Python is a program that reads and executes Python code line by line, rather than compiling the entire code into machine language beforehand."
      ],
      "metadata": {
        "id": "YKmcN3WkNNGP"
      }
    },
    {
      "cell_type": "markdown",
      "source": [
        "**3.What are pre-defined keywords in Python**\n",
        "\n",
        "Pre-defined keywords in Python are reserved words that have special meaning in the language. They are used to define the syntax and structure of Python programs and cannot be used as variable names, function names, or identifiers"
      ],
      "metadata": {
        "id": "TFeats47NNBr"
      }
    },
    {
      "cell_type": "markdown",
      "source": [
        "**4.Can keywords be used as variable names?**\n",
        "\n",
        "No, keywords cannot be used as variable names in Python.\n",
        "\n",
        "\n",
        "Keywords are reserved words that Python uses to define the language’s syntax and structure.\n",
        "\n",
        "Using a keyword as a variable name will cause a syntax error because it conflicts with the language rules"
      ],
      "metadata": {
        "id": "8OhzVUq1NM_J"
      }
    },
    {
      "cell_type": "markdown",
      "source": [
        "**5.What is mutability in Python**\n",
        "\n",
        "Mutability refers to whether an object’s value can be changed after it is created."
      ],
      "metadata": {
        "id": "E5BVT3ZxNM8r"
      }
    },
    {
      "cell_type": "markdown",
      "source": [
        " **6.Why are lists mutable, but tuples are immutable**\n",
        "\n",
        " Lists store their elements in a way that allows modifying, adding, or removing items efficiently (like dynamic arrays).\n",
        "\n",
        "Tuples are implemented more like fixed memory blocks, which makes them immutable and can be optimized for performance and memory usage"
      ],
      "metadata": {
        "id": "1LjhWvafNM6X"
      }
    },
    {
      "cell_type": "markdown",
      "source": [
        "**7.What is the difference between “==” and “is” operators in Python**\n",
        "\n",
        "\"==\" is a Relational Operator, Checks if the values of two objects are equal.\n",
        "\n",
        "example,\n",
        "a=10\n",
        "b=5\n",
        "a==b  will give False as outputas a does not matches with b.\n",
        "\n",
        "“is” is a Identity Operator, Checks if two variables point to the same object in memory\n",
        "\n",
        "example,\n",
        "a = [1, 2, 3]\n",
        "b = [1, 2, 3]\n",
        "c = a\n",
        "a is b will give False as output and a is c will give you True as output"
      ],
      "metadata": {
        "id": "VKvZ3zO-NM3c"
      }
    },
    {
      "cell_type": "markdown",
      "source": [
        "**8.What are logical operators in Python**\n",
        "\n",
        "Logical operators are special words that help you check true or false conditions together.\n",
        "\n",
        "There are three main ones:\n",
        "\n",
        "and — means both things have to be true.\n",
        "\n",
        "or — means at least one thing is true.\n",
        "\n",
        "not — means flip true to false, or false to true"
      ],
      "metadata": {
        "id": "82OaOPmFNM0r"
      }
    },
    {
      "cell_type": "markdown",
      "source": [
        "**9.What is type casting in Python**\n",
        "\n",
        "we can convert one type of variable to another type. this is caleed type conversion or type casting.\n",
        "\n",
        "Sometimes you get data in one type (like a string \"10\") but need it as a number (10) to do math or other operations. Type casting helps you change the type.\n",
        "\n",
        "* Implicit casting\n",
        "* Explicit casting"
      ],
      "metadata": {
        "id": "sl14K29eNMx0"
      }
    },
    {
      "cell_type": "markdown",
      "source": [
        "**10.What is the difference between implicit and explicit type casting**\n",
        "\n",
        "1. Implicit Type Casting (Automatic Conversion)\n",
        "* Done automatically by Python without you needing to write any code.\n",
        "* Happens when Python automatically converts one data type to another during operations.\n",
        "* Usually happens when mixing types, like int and float.\n",
        "\n",
        "2. Explicit Type Casting (Manual Conversion)\n",
        "* Done manually by the programmer using casting functions like int(), float(), str(), etc.\n",
        "* You explicitly tell Python to convert a variable from one type to another.\n",
        "* Useful when you want precise control"
      ],
      "metadata": {
        "id": "55rPn8SDNMvR"
      }
    },
    {
      "cell_type": "markdown",
      "source": [
        "**11.What is the purpose of conditional statements in Python**\n",
        "\n",
        "Conditional statements control the flow of your program based on certain conditions.\n",
        "The purpose of conditional statements in Python is to allow your program to make decisions and run different blocks of code depending on whether a condition is true or false."
      ],
      "metadata": {
        "id": "aR40X3snNMsn"
      }
    },
    {
      "cell_type": "markdown",
      "source": [
        "**12.How does the elif statement work?**\n",
        "\n",
        "The elif statement (short for \"else if\") is used when you want to check multiple conditions, one after another."
      ],
      "metadata": {
        "id": "fjU30On3NMp4"
      }
    },
    {
      "cell_type": "code",
      "source": [
        "grade = 90\n",
        "if grade >=90:\n",
        "  print('A')\n",
        "elif grade >=80:\n",
        "  print('B')\n",
        "elif grade >=70:\n",
        "  print('C')\n",
        "else:\n",
        "  print('D')"
      ],
      "metadata": {
        "colab": {
          "base_uri": "https://localhost:8080/"
        },
        "id": "aBm7McMDS6Md",
        "outputId": "f86aacf5-99e5-4eac-ce93-f06a890340b7"
      },
      "execution_count": null,
      "outputs": [
        {
          "output_type": "stream",
          "name": "stdout",
          "text": [
            "A\n"
          ]
        }
      ]
    },
    {
      "cell_type": "markdown",
      "source": [
        " **13.What is the difference between for and while loops**\n",
        " * for Loop -\n",
        "  Use it when you know how many times you want to repeat something\n",
        " * while loop - Use it when you don’t know how many times to repeat.It keeps going until a condition becomes false\n",
        "  "
      ],
      "metadata": {
        "id": "TUYrE7XENMnF"
      }
    },
    {
      "cell_type": "code",
      "source": [
        "#Example - for loop\n",
        "for i in range(3):\n",
        "   print(i)"
      ],
      "metadata": {
        "colab": {
          "base_uri": "https://localhost:8080/"
        },
        "id": "EVkfTeh1ZGgt",
        "outputId": "abb72981-c8f1-4f2f-c9c6-79593869d8d5"
      },
      "execution_count": null,
      "outputs": [
        {
          "output_type": "stream",
          "name": "stdout",
          "text": [
            "0\n",
            "1\n",
            "2\n"
          ]
        }
      ]
    },
    {
      "cell_type": "code",
      "source": [
        "#Example - while loop\n",
        "i = 0\n",
        "while i < 3:\n",
        "    print(i)\n",
        "    i =(i+1)\n"
      ],
      "metadata": {
        "colab": {
          "base_uri": "https://localhost:8080/"
        },
        "id": "_HAzZdXzZXbj",
        "outputId": "357e79e1-1d48-4cbd-9412-e8bb9189377c"
      },
      "execution_count": null,
      "outputs": [
        {
          "output_type": "stream",
          "name": "stdout",
          "text": [
            "0\n",
            "1\n",
            "2\n"
          ]
        }
      ]
    },
    {
      "cell_type": "markdown",
      "source": [
        "**14.Describe a scenario where a while loop is more suitable than a for loop**.\n",
        "\n",
        "Suppose you're building an ATM system where a user must enter the correct PIN. You don't know how many times the user will take to get it right (within a limit), so a while loop is ideal"
      ],
      "metadata": {
        "id": "TYJKoxtwNMfv"
      }
    },
    {
      "cell_type": "code",
      "source": [
        "correct_pin = \"1234\"\n",
        "entered_pin = \"\"\n",
        "\n",
        "while entered_pin != correct_pin:\n",
        "    entered_pin = input(\"Enter your PIN: \")\n",
        "    if entered_pin != correct_pin:\n",
        "        print(\"Incorrect PIN. Try again.\")\n",
        "print(\"Access granted.\")"
      ],
      "metadata": {
        "id": "gVZUlzVTcqm_"
      },
      "execution_count": null,
      "outputs": []
    },
    {
      "cell_type": "markdown",
      "source": [
        "# **# Practical Questions**"
      ],
      "metadata": {
        "id": "eHyYoWIrMwki"
      }
    },
    {
      "cell_type": "markdown",
      "source": [
        "**1.Write a Python program to print \"Hello, World!**"
      ],
      "metadata": {
        "id": "tWqXTZpV6b3V"
      }
    },
    {
      "cell_type": "code",
      "source": [
        "print(\"Hello,World!\")"
      ],
      "metadata": {
        "colab": {
          "base_uri": "https://localhost:8080/"
        },
        "id": "1vQzBPaK6e3I",
        "outputId": "2c8f43b9-1a64-4528-c46b-c9a19f4bc28b"
      },
      "execution_count": null,
      "outputs": [
        {
          "output_type": "stream",
          "name": "stdout",
          "text": [
            "Hello,World!\n"
          ]
        }
      ]
    },
    {
      "cell_type": "markdown",
      "source": [
        "**2.Write a Python program that displays your name and age**"
      ],
      "metadata": {
        "id": "4QzM5jQ46-iO"
      }
    },
    {
      "cell_type": "code",
      "source": [
        "name = \"pallavi\"\n",
        "age = 25\n",
        "print(name)\n",
        "print(age)"
      ],
      "metadata": {
        "colab": {
          "base_uri": "https://localhost:8080/"
        },
        "id": "tbHJm7sR7G0o",
        "outputId": "ab8a8bdc-9e98-4f05-a60a-e7fd015698f2"
      },
      "execution_count": null,
      "outputs": [
        {
          "output_type": "stream",
          "name": "stdout",
          "text": [
            "pallavi\n",
            "25\n"
          ]
        }
      ]
    },
    {
      "cell_type": "markdown",
      "source": [
        "**3.Write code to print all the pre-defined keywords in Python using the keyword library**"
      ],
      "metadata": {
        "id": "Ygqm7ZkvENww"
      }
    },
    {
      "cell_type": "code",
      "source": [
        "help(\"keywords\")"
      ],
      "metadata": {
        "colab": {
          "base_uri": "https://localhost:8080/"
        },
        "id": "Un6Q3hx0EPNS",
        "outputId": "5a25534d-7a36-4941-e974-2620670a22ef"
      },
      "execution_count": null,
      "outputs": [
        {
          "output_type": "stream",
          "name": "stdout",
          "text": [
            "\n",
            "Here is a list of the Python keywords.  Enter any keyword to get more help.\n",
            "\n",
            "False               class               from                or\n",
            "None                continue            global              pass\n",
            "True                def                 if                  raise\n",
            "and                 del                 import              return\n",
            "as                  elif                in                  try\n",
            "assert              else                is                  while\n",
            "async               except              lambda              with\n",
            "await               finally             nonlocal            yield\n",
            "break               for                 not                 \n",
            "\n"
          ]
        }
      ]
    },
    {
      "cell_type": "code",
      "source": [
        "import keyword\n",
        "print(keyword.kwlist)"
      ],
      "metadata": {
        "colab": {
          "base_uri": "https://localhost:8080/"
        },
        "id": "q7WVgjZ1FStp",
        "outputId": "ed53d1b3-b2d4-4b6c-dbdb-c63dd41b0ea6"
      },
      "execution_count": null,
      "outputs": [
        {
          "output_type": "stream",
          "name": "stdout",
          "text": [
            "['False', 'None', 'True', 'and', 'as', 'assert', 'async', 'await', 'break', 'class', 'continue', 'def', 'del', 'elif', 'else', 'except', 'finally', 'for', 'from', 'global', 'if', 'import', 'in', 'is', 'lambda', 'nonlocal', 'not', 'or', 'pass', 'raise', 'return', 'try', 'while', 'with', 'yield']\n"
          ]
        }
      ]
    },
    {
      "cell_type": "markdown",
      "source": [
        "**4.Write a program that checks if a given word is a Python keyword.**"
      ],
      "metadata": {
        "id": "WVTi2Je9EpSH"
      }
    },
    {
      "cell_type": "code",
      "source": [
        "import keyword\n",
        "word = input(\"enter a word : \")\n",
        "if keyword.iskeyword(word):\n",
        "  print(\"{} is a python keyword\".format(word))\n",
        "else:\n",
        "  print(\"{} is not a python keyword\".format(word))\n"
      ],
      "metadata": {
        "colab": {
          "base_uri": "https://localhost:8080/"
        },
        "id": "SMImbsksErPK",
        "outputId": "9b1ef7af-74e3-426d-e72d-f4c4b289124a"
      },
      "execution_count": null,
      "outputs": [
        {
          "output_type": "stream",
          "name": "stdout",
          "text": [
            "enter a word : Pallavi\n",
            "Pallavi is not a python keyword\n"
          ]
        }
      ]
    },
    {
      "cell_type": "markdown",
      "source": [
        "**5.Create a list and tuple in Python, and demonstrate how attempting to change an element works differently\n",
        "for each**"
      ],
      "metadata": {
        "id": "vtw4IjEWF_7J"
      }
    },
    {
      "cell_type": "code",
      "source": [
        "#List is mutable. Consider following as list of elements :\n",
        "shopping_items= ['apple' , 'bread', 'grapes']\n",
        "print(shopping_items)"
      ],
      "metadata": {
        "colab": {
          "base_uri": "https://localhost:8080/"
        },
        "id": "ybxJEg6ICPUf",
        "outputId": "72db373a-bdab-44cc-913c-4b272d733830"
      },
      "execution_count": null,
      "outputs": [
        {
          "output_type": "stream",
          "name": "stdout",
          "text": [
            "['apple', 'bread', 'grapes']\n"
          ]
        }
      ]
    },
    {
      "cell_type": "code",
      "source": [
        "# Change of element in list\n",
        "shopping_items[0] = 'banana'\n",
        "print(shopping_items)"
      ],
      "metadata": {
        "colab": {
          "base_uri": "https://localhost:8080/"
        },
        "id": "MvVrcPx7CmYc",
        "outputId": "624de37e-8373-4707-8958-2d8a61acafd1"
      },
      "execution_count": null,
      "outputs": [
        {
          "output_type": "stream",
          "name": "stdout",
          "text": [
            "['banana', 'bread', 'grapes']\n"
          ]
        }
      ]
    },
    {
      "cell_type": "code",
      "source": [
        "# the modified list will be as below.\n",
        "shopping_items # list accepted the changes."
      ],
      "metadata": {
        "colab": {
          "base_uri": "https://localhost:8080/"
        },
        "id": "buwyltN-C9SW",
        "outputId": "6d44193b-2b4e-4a17-a9f8-256027b94a5e"
      },
      "execution_count": null,
      "outputs": [
        {
          "output_type": "execute_result",
          "data": {
            "text/plain": [
              "['banana', 'bread', 'grapes']"
            ]
          },
          "metadata": {},
          "execution_count": 9
        }
      ]
    },
    {
      "cell_type": "code",
      "source": [
        "# tuple is immutable. Consider following as tuple of elements :\n",
        "shopping_items= ('apple' , 'bread', 'grapes')\n",
        "print(shopping_items)\n"
      ],
      "metadata": {
        "colab": {
          "base_uri": "https://localhost:8080/"
        },
        "id": "yVy0jlFyDlQp",
        "outputId": "5b545152-e281-40e7-c76e-c4c77af97c3a"
      },
      "execution_count": null,
      "outputs": [
        {
          "output_type": "stream",
          "name": "stdout",
          "text": [
            "('apple', 'bread', 'grapes')\n"
          ]
        }
      ]
    },
    {
      "cell_type": "code",
      "source": [
        "# Change of element in tuple\n",
        "shopping_items[0] = 'banana'\n",
        "print(shopping_items)\n",
        "\n",
        "# tuple does not accepted the changes."
      ],
      "metadata": {
        "colab": {
          "base_uri": "https://localhost:8080/",
          "height": 219
        },
        "id": "60QX_TzvDxm-",
        "outputId": "8a5a91fe-2d70-472e-be35-5fc5670abe5b"
      },
      "execution_count": null,
      "outputs": [
        {
          "output_type": "error",
          "ename": "TypeError",
          "evalue": "'tuple' object does not support item assignment",
          "traceback": [
            "\u001b[0;31m---------------------------------------------------------------------------\u001b[0m",
            "\u001b[0;31mTypeError\u001b[0m                                 Traceback (most recent call last)",
            "\u001b[0;32m/tmp/ipython-input-19-3867451370.py\u001b[0m in \u001b[0;36m<cell line: 0>\u001b[0;34m()\u001b[0m\n\u001b[1;32m      1\u001b[0m \u001b[0;31m# Change of element in tuple\u001b[0m\u001b[0;34m\u001b[0m\u001b[0;34m\u001b[0m\u001b[0m\n\u001b[0;32m----> 2\u001b[0;31m \u001b[0mshopping_items\u001b[0m\u001b[0;34m[\u001b[0m\u001b[0;36m0\u001b[0m\u001b[0;34m]\u001b[0m \u001b[0;34m=\u001b[0m \u001b[0;34m'banana'\u001b[0m\u001b[0;34m\u001b[0m\u001b[0;34m\u001b[0m\u001b[0m\n\u001b[0m\u001b[1;32m      3\u001b[0m \u001b[0mprint\u001b[0m\u001b[0;34m(\u001b[0m\u001b[0mshopping_items\u001b[0m\u001b[0;34m)\u001b[0m\u001b[0;34m\u001b[0m\u001b[0;34m\u001b[0m\u001b[0m\n\u001b[1;32m      4\u001b[0m \u001b[0;34m\u001b[0m\u001b[0m\n\u001b[1;32m      5\u001b[0m \u001b[0;31m# tuple does not accepted the changes.\u001b[0m\u001b[0;34m\u001b[0m\u001b[0;34m\u001b[0m\u001b[0m\n",
            "\u001b[0;31mTypeError\u001b[0m: 'tuple' object does not support item assignment"
          ]
        }
      ]
    },
    {
      "cell_type": "markdown",
      "source": [
        "**6. Write a function to demonstrate the behavior of mutable and immutable arguments.**"
      ],
      "metadata": {
        "id": "abFPxvLoGWSU"
      }
    },
    {
      "cell_type": "code",
      "source": [
        "# Immutable example\n",
        "a = 5\n",
        "b = a\n",
        "b = b + 1\n",
        "print(\"a =\", a)\n",
        "\n",
        "# Mutable example\n",
        "x = [1, 2, 3]\n",
        "y = x\n",
        "y.append(4)\n",
        "print(\"x =\", x)"
      ],
      "metadata": {
        "colab": {
          "base_uri": "https://localhost:8080/"
        },
        "id": "i6v1BF9udKav",
        "outputId": "c302aa1f-7edf-4cf9-a3ff-bc55e1c85b59"
      },
      "execution_count": 1,
      "outputs": [
        {
          "output_type": "stream",
          "name": "stdout",
          "text": [
            "a = 5\n",
            "x = [1, 2, 3, 4]\n"
          ]
        }
      ]
    },
    {
      "cell_type": "markdown",
      "source": [
        "a is an integer (immutable) → changing b doesn't affect a.\n",
        "\n",
        "x is a list (mutable) → changing y also changes x"
      ],
      "metadata": {
        "id": "TrUFYHyGefO-"
      }
    },
    {
      "cell_type": "markdown",
      "source": [
        "**7. Write a program that performs basic arithmetic operations on two user-input numbers.**"
      ],
      "metadata": {
        "id": "Asy82XogGecS"
      }
    },
    {
      "cell_type": "code",
      "source": [
        "num1 = int(input(\"Enter num1 : \"))\n",
        "num2 = int(input(\"Enter num2 : \"))\n",
        "arithmetic_operation = input(\"arithmetic_operation : \")\n",
        "if arithmetic_operation == \"+\":\n",
        "  print(num1+num2)\n",
        "elif arithmetic_operation == \"-\":\n",
        "  print(num1-num2)\n",
        "elif arithmetic_operation == \"*\":\n",
        "  print(num1*num2)\n",
        "elif arithmetic_operation == \"/\":\n",
        "  print(num1/num2)\n",
        "else:\n",
        "  print(\"Invalid operator\")"
      ],
      "metadata": {
        "colab": {
          "base_uri": "https://localhost:8080/"
        },
        "id": "LhY3r0YuGhim",
        "outputId": "3fc8f9cb-a039-4f9a-d323-05a6007cb9d7"
      },
      "execution_count": null,
      "outputs": [
        {
          "output_type": "stream",
          "name": "stdout",
          "text": [
            "Enter num1 : 500\n",
            "Enter num2 : 90\n",
            "arithmetic_operation : -\n",
            "410\n"
          ]
        }
      ]
    },
    {
      "cell_type": "markdown",
      "source": [
        "**8.Write a program to demonstrate the use of logical operators.**"
      ],
      "metadata": {
        "id": "Cqg6VlU2IxKz"
      }
    },
    {
      "cell_type": "code",
      "source": [
        "a = True\n",
        "b = False"
      ],
      "metadata": {
        "id": "raSO6wgjJFkf"
      },
      "execution_count": null,
      "outputs": []
    },
    {
      "cell_type": "code",
      "source": [
        "a or b"
      ],
      "metadata": {
        "colab": {
          "base_uri": "https://localhost:8080/"
        },
        "id": "rHiZyzjmJG5O",
        "outputId": "7ef84357-e127-43a8-9458-28b443bbf5b0"
      },
      "execution_count": null,
      "outputs": [
        {
          "output_type": "execute_result",
          "data": {
            "text/plain": [
              "True"
            ]
          },
          "metadata": {},
          "execution_count": 25
        }
      ]
    },
    {
      "cell_type": "code",
      "source": [
        "a and b\n"
      ],
      "metadata": {
        "colab": {
          "base_uri": "https://localhost:8080/"
        },
        "id": "gT5-JidtJIyu",
        "outputId": "c9ec43cd-a580-4b83-8b6b-4e89969e7986"
      },
      "execution_count": null,
      "outputs": [
        {
          "output_type": "execute_result",
          "data": {
            "text/plain": [
              "False"
            ]
          },
          "metadata": {},
          "execution_count": 26
        }
      ]
    },
    {
      "cell_type": "markdown",
      "source": [
        "**9. Write a Python program to convert user input from string to integer, float, and boolean types.**"
      ],
      "metadata": {
        "id": "u7SfUukDJZFF"
      }
    },
    {
      "cell_type": "code",
      "source": [
        "x = input(\"Enter something: \")\n",
        "\n",
        "print(\"As integer:\", int(x))\n",
        "print(\"As float:\", float(x))\n",
        "print(\"As boolean:\", bool(x))"
      ],
      "metadata": {
        "id": "Sc7wFClAdni4"
      },
      "execution_count": null,
      "outputs": []
    },
    {
      "cell_type": "markdown",
      "source": [
        "**10. Write code to demonstrate type casting with list elements.**"
      ],
      "metadata": {
        "id": "32WqUMzAJbFF"
      }
    },
    {
      "cell_type": "code",
      "source": [
        "items = [\"1\" , \"4.7\", \"True\"]"
      ],
      "metadata": {
        "id": "acv7mPrSW_3g"
      },
      "execution_count": null,
      "outputs": []
    },
    {
      "cell_type": "code",
      "source": [
        "type(items[0])"
      ],
      "metadata": {
        "colab": {
          "base_uri": "https://localhost:8080/"
        },
        "id": "Mqgq17ryXRPl",
        "outputId": "a5de262b-a76e-4235-80ec-854d6a972528"
      },
      "execution_count": null,
      "outputs": [
        {
          "output_type": "execute_result",
          "data": {
            "text/plain": [
              "str"
            ]
          },
          "metadata": {},
          "execution_count": 42
        }
      ]
    },
    {
      "cell_type": "code",
      "source": [
        "items[0]"
      ],
      "metadata": {
        "colab": {
          "base_uri": "https://localhost:8080/",
          "height": 36
        },
        "id": "lvcE6nwOZC5O",
        "outputId": "df799782-1281-4b67-d9f6-7e7f3c77f221"
      },
      "execution_count": null,
      "outputs": [
        {
          "output_type": "execute_result",
          "data": {
            "text/plain": [
              "'1'"
            ],
            "application/vnd.google.colaboratory.intrinsic+json": {
              "type": "string"
            }
          },
          "metadata": {},
          "execution_count": 43
        }
      ]
    },
    {
      "cell_type": "code",
      "source": [
        "type(int(items[0]))"
      ],
      "metadata": {
        "colab": {
          "base_uri": "https://localhost:8080/"
        },
        "id": "pZULZRiuXYlv",
        "outputId": "645de08d-bd60-4451-d6ba-f6a2784efc24"
      },
      "execution_count": null,
      "outputs": [
        {
          "output_type": "execute_result",
          "data": {
            "text/plain": [
              "int"
            ]
          },
          "metadata": {},
          "execution_count": 29
        }
      ]
    },
    {
      "cell_type": "code",
      "source": [
        "int(items[0])"
      ],
      "metadata": {
        "colab": {
          "base_uri": "https://localhost:8080/"
        },
        "id": "d50LQWokYi0s",
        "outputId": "5a0de763-c606-415e-be73-24b6b38b63c8"
      },
      "execution_count": null,
      "outputs": [
        {
          "output_type": "execute_result",
          "data": {
            "text/plain": [
              "1"
            ]
          },
          "metadata": {},
          "execution_count": 33
        }
      ]
    },
    {
      "cell_type": "code",
      "source": [
        "type(items[1])"
      ],
      "metadata": {
        "colab": {
          "base_uri": "https://localhost:8080/"
        },
        "id": "nzsXlG-2YsVI",
        "outputId": "537f68a9-5fac-4291-cfe1-4889c719e31c"
      },
      "execution_count": null,
      "outputs": [
        {
          "output_type": "execute_result",
          "data": {
            "text/plain": [
              "str"
            ]
          },
          "metadata": {},
          "execution_count": 40
        }
      ]
    },
    {
      "cell_type": "code",
      "source": [
        "items[1]"
      ],
      "metadata": {
        "colab": {
          "base_uri": "https://localhost:8080/",
          "height": 36
        },
        "id": "euu_NBuoY926",
        "outputId": "da8d7ab0-59fa-4bc8-b4eb-3bd455f6353c"
      },
      "execution_count": null,
      "outputs": [
        {
          "output_type": "execute_result",
          "data": {
            "text/plain": [
              "'4.7'"
            ],
            "application/vnd.google.colaboratory.intrinsic+json": {
              "type": "string"
            }
          },
          "metadata": {},
          "execution_count": 41
        }
      ]
    },
    {
      "cell_type": "code",
      "source": [
        "type(float(items[1]))"
      ],
      "metadata": {
        "colab": {
          "base_uri": "https://localhost:8080/"
        },
        "id": "WfKUE1X2Yvgz",
        "outputId": "d68980fb-f0af-46bf-caf3-b550d1156d7b"
      },
      "execution_count": null,
      "outputs": [
        {
          "output_type": "execute_result",
          "data": {
            "text/plain": [
              "float"
            ]
          },
          "metadata": {},
          "execution_count": 36
        }
      ]
    },
    {
      "cell_type": "code",
      "source": [
        "float(items[1])"
      ],
      "metadata": {
        "colab": {
          "base_uri": "https://localhost:8080/"
        },
        "id": "XgKYJQL_XTUr",
        "outputId": "ae8a72c1-c1e3-41d3-ece6-36b73e0a8e18"
      },
      "execution_count": null,
      "outputs": [
        {
          "output_type": "execute_result",
          "data": {
            "text/plain": [
              "4.7"
            ]
          },
          "metadata": {},
          "execution_count": 44
        }
      ]
    },
    {
      "cell_type": "code",
      "source": [
        "type(items[2])"
      ],
      "metadata": {
        "colab": {
          "base_uri": "https://localhost:8080/"
        },
        "id": "9TU3yBSDZIGH",
        "outputId": "4ed0d380-3452-4e5a-e723-d8741d3ec015"
      },
      "execution_count": null,
      "outputs": [
        {
          "output_type": "execute_result",
          "data": {
            "text/plain": [
              "str"
            ]
          },
          "metadata": {},
          "execution_count": 46
        }
      ]
    },
    {
      "cell_type": "code",
      "source": [
        "items[2]"
      ],
      "metadata": {
        "colab": {
          "base_uri": "https://localhost:8080/",
          "height": 36
        },
        "id": "_C4DIlwfZLT1",
        "outputId": "380de571-893c-4838-8232-c4d337e10600"
      },
      "execution_count": null,
      "outputs": [
        {
          "output_type": "execute_result",
          "data": {
            "text/plain": [
              "'True'"
            ],
            "application/vnd.google.colaboratory.intrinsic+json": {
              "type": "string"
            }
          },
          "metadata": {},
          "execution_count": 53
        }
      ]
    },
    {
      "cell_type": "code",
      "source": [
        "type(items[2])"
      ],
      "metadata": {
        "id": "V4EugB04Zqn4"
      },
      "execution_count": null,
      "outputs": []
    },
    {
      "cell_type": "code",
      "source": [
        "type(bool(items[2]))"
      ],
      "metadata": {
        "colab": {
          "base_uri": "https://localhost:8080/"
        },
        "id": "X3-USD50ZPh6",
        "outputId": "80721435-e60a-418f-90a8-7a1f8c65fe16"
      },
      "execution_count": null,
      "outputs": [
        {
          "output_type": "execute_result",
          "data": {
            "text/plain": [
              "bool"
            ]
          },
          "metadata": {},
          "execution_count": 50
        }
      ]
    },
    {
      "cell_type": "code",
      "source": [
        "(bool(items[2]))"
      ],
      "metadata": {
        "colab": {
          "base_uri": "https://localhost:8080/"
        },
        "id": "l1uapuDQZg4M",
        "outputId": "a5a55f8d-9955-4e6b-d66a-801861892596"
      },
      "execution_count": null,
      "outputs": [
        {
          "output_type": "execute_result",
          "data": {
            "text/plain": [
              "True"
            ]
          },
          "metadata": {},
          "execution_count": 54
        }
      ]
    },
    {
      "cell_type": "markdown",
      "source": [
        "**11.Write a program that checks if a number is positive, negative, or zero.**"
      ],
      "metadata": {
        "id": "UQJ21Zz6KDW6"
      }
    },
    {
      "cell_type": "code",
      "source": [
        "num=int(input(\"enter a number : \"))\n",
        "if num > 0:\n",
        "  print(\"the number is posotive\")\n",
        "elif num < 0:\n",
        "  print(\"the number is negative\")\n",
        "else :\n",
        "  print(\"the number is zero\")"
      ],
      "metadata": {
        "colab": {
          "base_uri": "https://localhost:8080/"
        },
        "id": "3lZUOu9qKHRB",
        "outputId": "0dac1409-b04d-4c58-f63d-46571122bedc"
      },
      "execution_count": null,
      "outputs": [
        {
          "output_type": "stream",
          "name": "stdout",
          "text": [
            "enter a number : 55\n",
            "the number is posotive\n"
          ]
        }
      ]
    },
    {
      "cell_type": "markdown",
      "source": [
        "**12. Write a for loop to print numbers from 1 to 10.**"
      ],
      "metadata": {
        "id": "i0xusoB4Le7G"
      }
    },
    {
      "cell_type": "code",
      "source": [
        "for n in range(1,10):\n",
        "  print(n)\n",
        "\n"
      ],
      "metadata": {
        "id": "8LUrGgFDaLmG",
        "colab": {
          "base_uri": "https://localhost:8080/"
        },
        "outputId": "87ba0ce1-99ed-4d61-8524-b8ed8c737c8f"
      },
      "execution_count": null,
      "outputs": [
        {
          "output_type": "stream",
          "name": "stdout",
          "text": [
            "1\n",
            "2\n",
            "3\n",
            "4\n",
            "5\n",
            "6\n",
            "7\n",
            "8\n",
            "9\n"
          ]
        }
      ]
    },
    {
      "cell_type": "markdown",
      "source": [
        "**13. Write a Python program to find the sum of all even numbers between 1 and 50.**"
      ],
      "metadata": {
        "id": "eWps0YplLitg"
      }
    },
    {
      "cell_type": "code",
      "source": [
        "sum_of_even_numbers = 0\n",
        "\n",
        "for n in range(2, 51, 2):\n",
        "    sum_of_even_numbers = sum_of_even_numbers+n\n",
        "\n",
        "print(\"Sum of even numbers from 1 to 50 is:\", sum_of_even_numbers)"
      ],
      "metadata": {
        "colab": {
          "base_uri": "https://localhost:8080/"
        },
        "id": "AeyrFEno1yWG",
        "outputId": "75e29690-e668-4613-d3d8-dff38156be91"
      },
      "execution_count": 2,
      "outputs": [
        {
          "output_type": "stream",
          "name": "stdout",
          "text": [
            "Sum of even numbers from 1 to 50 is: 650\n"
          ]
        }
      ]
    },
    {
      "cell_type": "markdown",
      "source": [
        "**14. Write a program to reverse a string using a while loop.**"
      ],
      "metadata": {
        "id": "tVN2a5eUMT09"
      }
    },
    {
      "cell_type": "code",
      "source": [
        "s = input(\"Enter a string: \")\n",
        "i = len(s) - 1\n",
        "rev = \"\"\n",
        "\n",
        "while i >= 0:\n",
        "    rev = rev + s[i]\n",
        "    i = i - 1\n",
        "\n",
        "print(\"Reversed:\", rev)"
      ],
      "metadata": {
        "colab": {
          "base_uri": "https://localhost:8080/"
        },
        "id": "929K-3Hee15F",
        "outputId": "f251e4ba-e5cf-4e79-9a0e-e709d153f696"
      },
      "execution_count": 4,
      "outputs": [
        {
          "output_type": "stream",
          "name": "stdout",
          "text": [
            "Enter a string: pallavi\n",
            "Reversed: ivallap\n"
          ]
        }
      ]
    },
    {
      "cell_type": "markdown",
      "source": [
        "**15. Write a Python program to calculate the factorial of a number provided by the user using a while loop.**"
      ],
      "metadata": {
        "id": "i0pNu3vFMXi8"
      }
    },
    {
      "cell_type": "code",
      "source": [
        "n = int(input(\"Enter a number: \"))\n",
        "fact = 1\n",
        "i = 1\n",
        "\n",
        "while i <= n:\n",
        "    fact = fact * i\n",
        "    i = i + 1\n",
        "\n",
        "print(\"Factorial is: {}\" .format(fact))"
      ],
      "metadata": {
        "colab": {
          "base_uri": "https://localhost:8080/"
        },
        "id": "5HjJ-std3Ljg",
        "outputId": "e3f47191-d371-40e2-9886-cd9565521b21"
      },
      "execution_count": null,
      "outputs": [
        {
          "output_type": "stream",
          "name": "stdout",
          "text": [
            "Enter a number: 5\n",
            "Factorial is: 120\n"
          ]
        }
      ]
    }
  ]
}